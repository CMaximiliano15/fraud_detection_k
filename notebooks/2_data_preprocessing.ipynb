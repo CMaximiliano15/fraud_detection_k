{
 "cells": [
  {
   "cell_type": "code",
   "execution_count": null,
   "id": "d6fa58df",
   "metadata": {},
   "outputs": [],
   "source": [
    "# Loading data\n",
    "df = pd.read_csv(\"G:\\Mi unidad\\Proyectos\\Programacion\\github-kaggle\\creditcard_2023.csv\")"
   ]
  },
  {
   "cell_type": "markdown",
   "id": "71f4e4fd",
   "metadata": {},
   "source": [
    "## Setting Up: Dividing the dataset\n"
   ]
  },
  {
   "cell_type": "code",
   "execution_count": null,
   "id": "49875d7d",
   "metadata": {},
   "outputs": [],
   "source": [
    "#Importing libraries for data manipulation\n",
    "import pandas as pd\n",
    "import numpy as np\n",
    "import matplotlib.pyplot as plt\n",
    "import seaborn as sns\n",
    "\n",
    "#From sklearn\n",
    "from sklearn.model_selection import train_test_split\n",
    "from sklearn.preprocessing import StandardScaler"
   ]
  },
  {
   "cell_type": "code",
   "execution_count": 25,
   "id": "274c4c3f",
   "metadata": {},
   "outputs": [],
   "source": [
    "#First, I drop the columns 'id' and 'Class', because 'id' is not a feature but an identifier for each row,\n",
    "# and 'Class' is the target variable.\n",
    "features= df.drop(['id','Class'], axis=1, errors='ignore')\n",
    "#On the other hand, I set the endogenous variable as 'Class'.\n",
    "y = df['Class']"
   ]
  },
  {
   "cell_type": "code",
   "execution_count": 26,
   "id": "aa760650",
   "metadata": {},
   "outputs": [],
   "source": [
    "# I split the dataset into training and testing sets\n",
    "X_train, X_test, y_train, y_test = train_test_split(features, y , test_size=0.2, random_state=42, stratify=y)"
   ]
  },
  {
   "cell_type": "markdown",
   "id": "283affb6",
   "metadata": {},
   "source": [
    "## Setting Up: Eliminating High Correlated variables\n"
   ]
  },
  {
   "cell_type": "code",
   "execution_count": 27,
   "id": "43e42f86",
   "metadata": {},
   "outputs": [],
   "source": [
    "#Removing highly correlated features\n",
    "X_train_reduced = X_train.drop(['V17', 'V18'], axis=1)\n",
    "X_test_reduced = X_test.drop(['V17', 'V18'], axis=1)"
   ]
  },
  {
   "cell_type": "markdown",
   "id": "b00be170",
   "metadata": {},
   "source": [
    "## Setting Up: Scaling Features\n"
   ]
  },
  {
   "cell_type": "code",
   "execution_count": 31,
   "id": "b0edee85",
   "metadata": {},
   "outputs": [],
   "source": [
    "# I scale the features using StandardScaler to normalize the data (mean=0, std=1)\n",
    "scaler = StandardScaler()\n",
    "X_train_scaled = scaler.fit_transform(X_train_reduced)\n",
    "X_test_scaled = scaler.transform(X_test_reduced)"
   ]
  },
  {
   "cell_type": "code",
   "execution_count": 32,
   "id": "c904a1e3",
   "metadata": {},
   "outputs": [
    {
     "name": "stdout",
     "output_type": "stream",
     "text": [
      "Class\n",
      "0    0.5\n",
      "1    0.5\n",
      "Name: proportion, dtype: float64\n"
     ]
    }
   ],
   "source": [
    "# I check the class distribution in the training set\n",
    "print(pd.Series(y_train).value_counts(normalize=True))"
   ]
  },
  {
   "cell_type": "code",
   "execution_count": 35,
   "id": "2a8b0d4b",
   "metadata": {},
   "outputs": [],
   "source": [
    "# Guardar datos preprocesados\n",
    "X_train.to_csv(\"data/processed/X_train_scaled.csv\", index=False)\n",
    "X_test.to_csv(\"data/processed/X_test_scaled.csv\", index=False)\n",
    "y_train.to_csv(\"data/processed/y_train.csv\", index=False)\n",
    "y_test.to_csv(\"data/processed/y_test.csv\", index=False)"
   ]
  }
 ],
 "metadata": {
  "kernelspec": {
   "display_name": "Python 3",
   "language": "python",
   "name": "python3"
  },
  "language_info": {
   "codemirror_mode": {
    "name": "ipython",
    "version": 3
   },
   "file_extension": ".py",
   "mimetype": "text/x-python",
   "name": "python",
   "nbconvert_exporter": "python",
   "pygments_lexer": "ipython3",
   "version": "3.11.9"
  }
 },
 "nbformat": 4,
 "nbformat_minor": 5
}
